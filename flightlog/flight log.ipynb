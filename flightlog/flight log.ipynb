{
 "cells": [
  {
   "cell_type": "code",
   "execution_count": null,
   "metadata": {
    "executionInfo": {
     "elapsed": 950,
     "status": "ok",
     "timestamp": 1618860825841,
     "user": {
      "displayName": "Alexander Guo",
      "photoUrl": "https://lh3.googleusercontent.com/a-/AOh14GhSs9kwMKxUGOsvyhGB21jb1mPCpzpKSt6yZQk8ow=s64",
      "userId": "02307872926953611114"
     },
     "user_tz": 240
    },
    "id": "q0Ym4GNan7pI"
   },
   "outputs": [],
   "source": [
    "import pandas as pd\n",
    "import numpy as np\n",
    "from datetime import timedelta\n",
    "import datetime\n",
    "from pytz import timezone, utc\n",
    "from timezonefinder import TimezoneFinder\n",
    "import geopy.distance\n",
    "import matplotlib.pyplot as plt\n",
    "import math\n",
    "\n",
    "plt.rcParams['font.size'] = '20'\n",
    "pd.set_option('display.max_columns', None)\n",
    "pd.set_option('display.max_rows', 999)\n"
   ]
  },
  {
   "cell_type": "markdown",
   "metadata": {
    "id": "fgIfLKj6n7pX"
   },
   "source": [
    "# AIR TRAVEL (March 2015-)"
   ]
  },
  {
   "cell_type": "code",
   "execution_count": null,
   "metadata": {
    "id": "cI4TcxbGn7pY",
    "scrolled": true
   },
   "outputs": [],
   "source": [
    "ROOT_DIR = '/Users/alexanderguo/Desktop/picrazy2.github.io/flightlog/'\n",
    "df = pd.read_csv(ROOT_DIR + 'flightlog.csv')\n",
    "airports = pd.read_csv(ROOT_DIR + 'airports.csv')\n",
    "\n",
    "tf = TimezoneFinder()\n",
    "\n",
    "def get_offset(t, lat, lng):\n",
    "    \"\"\"\n",
    "    returns a location's time zone offset from UTC in hours.\n",
    "    \"\"\"\n",
    "    tz_target = timezone(tf.certain_timezone_at(lng=lng, lat=lat))\n",
    "    today_target = tz_target.localize(t)\n",
    "    today_utc = utc.localize(t)\n",
    "    return (today_utc - today_target).total_seconds() / 3600\n",
    "\n",
    "def get_offset_tz(t, tz_target):\n",
    "    \"\"\"\n",
    "    returns a location's time zone offset from UTC in hours.\n",
    "    \"\"\"\n",
    "    today_target = tz_target.localize(t)\n",
    "    today_utc = utc.localize(t)\n",
    "    return (today_utc - today_target).total_seconds() / 3600\n"
   ]
  },
  {
   "cell_type": "code",
   "execution_count": null,
   "metadata": {
    "id": "foIRxQgHn7pY",
    "outputId": "b56131b8-9ddb-4465-dbaf-2f85e72b1bb0",
    "scrolled": true
   },
   "outputs": [],
   "source": [
    "# Main Processing\n",
    "\n",
    "df['Date'] = pd.to_datetime(df['Date'])\n",
    "\n",
    "df = df.merge(airports[['Name', 'City', 'Country', 'IATA', 'Lat', 'Long']], left_on='Dep Airport', right_on='IATA', how='left')\n",
    "df = df.drop(columns='IATA').rename(columns={'Name': 'Dep Name', 'Lat': 'Dep Lat', 'Long': 'Dep Long', 'City': 'Dep City', 'Country': 'Dep Country'})\n",
    "df = df.merge(airports[['Name', 'City', 'Country', 'IATA', 'Lat', 'Long']], left_on='Arr Airport', right_on='IATA', how='left')\n",
    "df = df.drop(columns='IATA').rename(columns={'Name': 'Arr Name', 'Lat': 'Arr Lat', 'Long': 'Arr Long', 'City': 'Arr City', 'Country': 'Arr Country'})\n",
    "\n",
    "df['Distance'] = df.apply(lambda row: geopy.distance.distance((row['Dep Lat'], row['Dep Long']), (row['Arr Lat'], row['Arr Long'])).miles, axis=1)\n",
    "df['Duration'] = df.apply(lambda row: np.sum(np.multiply(np.array([int(x) for x in row['Actual Duration'].split(':')]), np.array([60, 1]))) if isinstance(row['Actual Duration'], str) else 0, axis=1)\n",
    "\n",
    "ALL_TIME_COLS = ['Scheduled Dep Time (Local)', 'Scheduled Arr Time (Local)', 'Scheduled Duration', 'Actual Dep Time (Local)', 'Actual Arr Time (Local)', 'Actual Duration']\n",
    "DATETIME_COLS = ['Scheduled Dep Time (Local)', 'Scheduled Arr Time (Local)', 'Actual Dep Time (Local)', 'Actual Arr Time (Local)']\n",
    "important_cols = ['Date', 'Scheduled Dep Time (Local)', 'Scheduled Arr Time (Local)', 'Actual Duration', 'Airline', 'Flight', 'Dep Airport', 'Arr Airport', 'Distance', 'Dep Delay', 'Arr Delay', 'Class', 'Aircraft', 'Registration']\n",
    "\n",
    "\n",
    "### Code to fix times below, it's not very clean ####\n",
    "# format the time cols\n",
    "for col in ALL_TIME_COLS:\n",
    "    df[col] = pd.to_datetime(df[col]).dt.time\n",
    "    if col in DATETIME_COLS:\n",
    "        temp_col = df['Date'].astype(str)+' '+df[col].astype(str)\n",
    "        temp_col = temp_col.replace('.*NaT', '', regex=True)\n",
    "        df[col] = pd.to_datetime(temp_col)\n",
    "\n",
    "# get timezones\n",
    "df['Dep Timezone'] = df[['Dep Lat', 'Dep Long']].apply(lambda r: timezone(tf.certain_timezone_at(lng=r['Dep Long'], lat=r['Dep Lat'])), axis=1)\n",
    "df['Arr Timezone'] = df[['Arr Lat', 'Arr Long']].apply(lambda r: timezone(tf.certain_timezone_at(lng=r['Arr Long'], lat=r['Arr Lat'])), axis=1)\n",
    "\n",
    "# fill in UTC\n",
    "for col in DATETIME_COLS:\n",
    "    new_col = col.split('(')[0] + '(UTC)'\n",
    "    deparr = 'Dep' if 'Dep' in col else 'Arr'\n",
    "    for i, r in df.iterrows():\n",
    "        if str(r[col]) != 'NaT':\n",
    "            df.loc[i, new_col] = r[col]-timedelta(hours=get_offset(datetime.datetime.strptime(r[col].strftime(\"%m/%d/%Y, %H:%M:%S\"), \"%m/%d/%Y, %H:%M:%S\"), r[deparr + ' Lat'], r[deparr + ' Long']))\n",
    "    \n",
    "# get calculated flght times\n",
    "for time_type in ['Scheduled', 'Actual']:\n",
    "    df[time_type + ' difference'] = df[time_type + ' Arr Time (UTC)'] - df[time_type + ' Dep Time (UTC)']\n",
    "\n",
    "\n",
    "# adjust dep/arr times, calculate delay\n",
    "temp = pd.DataFrame()\n",
    "for i, r in df.iterrows():\n",
    "    for time_type in ['Scheduled', 'Actual']:\n",
    "        if str(r[time_type + ' difference']) != 'NaT' and r[time_type + ' difference'].days < 0:\n",
    "            r[time_type + ' Arr Time (UTC)'] = r[time_type + ' Arr Time (UTC)'] + timedelta(days=1)\n",
    "    dep_delay = r['Actual Dep Time (UTC)'] - r['Scheduled Dep Time (UTC)']\n",
    "    if dep_delay.days < 0 and dep_delay.seconds < 86400-3600: # can't have actual dep more than 1 hour before scheduled\n",
    "        r['Actual Dep Time (UTC)'] = r['Actual Dep Time (UTC)'] + timedelta(days=1)\n",
    "        r['Actual Arr Time (UTC)'] = r['Actual Arr Time (UTC)'] + timedelta(days=1)\n",
    "    dep_delay = r['Actual Dep Time (UTC)'] - r['Scheduled Dep Time (UTC)']\n",
    "    arr_delay = r['Actual Arr Time (UTC)'] - r['Scheduled Arr Time (UTC)']\n",
    "    r['Dep Delay'] = np.nan if str(dep_delay) == 'NaT' else dep_delay.seconds//60 if dep_delay.days >= 0 else dep_delay.seconds//60-1440\n",
    "    r['Arr Delay'] = np.nan if str(arr_delay) == 'NaT' else arr_delay.seconds//60 if arr_delay.days >= 0 else arr_delay.seconds//60-1440\n",
    "\n",
    "    for time_type in ['Scheduled', 'Actual']:\n",
    "        if str(r[time_type + ' Dep Time (Local)']) != 'NaT':\n",
    "            r[time_type + ' Dep Time (Local)'] = r[time_type + ' Dep Time (UTC)'] + timedelta(hours=get_offset_tz(datetime.datetime.strptime(r[time_type + ' Dep Time (Local)'].strftime(\"%m/%d/%Y, %H:%M:%S\"), \"%m/%d/%Y, %H:%M:%S\"), r['Dep Timezone']))\n",
    "        if str(r[time_type + ' Arr Time (Local)']) != 'NaT':    \n",
    "            r[time_type + ' Arr Time (Local)'] = r[time_type + ' Arr Time (UTC)'] + timedelta(hours=get_offset_tz(datetime.datetime.strptime(r[time_type + ' Arr Time (Local)'].strftime(\"%m/%d/%Y, %H:%M:%S\"), \"%m/%d/%Y, %H:%M:%S\"), r['Arr Timezone']))\n",
    "    \n",
    "    if i > 0:\n",
    "        r['Time since last flight'] = r['Actual Dep Time (UTC)'] - df.loc[i-1, 'Actual Arr Time (UTC)']\n",
    "        r['Last flight arrival (UTC)'] = df.loc[i-1, 'Actual Arr Time (UTC)']\n",
    "    temp = temp.append(r)\n",
    "    \n",
    "df = temp\n",
    "df = df.drop(columns = ['Actual difference', 'Scheduled difference'])\n",
    "\n",
    "\n",
    "TOTAL_DIST = df['Distance'].sum()\n",
    "TOTAL_TIME = df['Duration'].sum()\n",
    "NUM_FLIGHTS = df['Date'].count()\n",
    "NUM_AIRLINES = df['Airline'].nunique()\n",
    "NUM_COUNTRIES = len(set(df['Dep Country'].tolist()) | set(df['Arr Country'].tolist()))\n",
    "NUM_AIRPORTS = len(set(df['Dep Airport'].tolist()) | set(df['Arr Airport'].tolist()))\n",
    "sorted_by_flight_interval = df.sort_values('Time since last flight', ascending=False).reset_index()\n",
    "LONGEST_INTERVAL = str(sorted_by_flight_interval.loc[0, 'Time since last flight'])\n",
    "LONGEST_INTERVAL_0 = str(sorted_by_flight_interval.loc[0, 'Last flight arrival (UTC)'].date())\n",
    "LONGEST_INTERVAL_1 = str(sorted_by_flight_interval.loc[0, 'Scheduled Dep Time (UTC)'].date())\n",
    "\n",
    "\n",
    "print('Total Distance Flown (miles): ' + str(TOTAL_DIST))\n",
    "print('Total time in the air: ' + str(timedelta(minutes=int(TOTAL_TIME))))\n",
    "print('Total Flights: ' + str(NUM_FLIGHTS))\n",
    "print('Number of Airlines: ' + str(NUM_AIRLINES))\n",
    "print('Number of Countries: ' + str(NUM_COUNTRIES))\n",
    "print('Number of Airports: ' + str(NUM_AIRPORTS))\n",
    "print('Longest time without flying: ' + LONGEST_INTERVAL + ', ' + LONGEST_INTERVAL_0 + ' to ' + LONGEST_INTERVAL_1)\n",
    "\n",
    "# df"
   ]
  },
  {
   "cell_type": "markdown",
   "metadata": {
    "id": "jL3qsIgQn7pa"
   },
   "source": [
    "# FLIGHTS SORTED BY DISTANCE"
   ]
  },
  {
   "cell_type": "code",
   "execution_count": null,
   "metadata": {
    "id": "YeciKzw0n7pa",
    "outputId": "8518b45c-a1d4-4709-a7f3-786eac3bf9ab",
    "scrolled": false
   },
   "outputs": [],
   "source": [
    "fig, ax = plt.subplots(1, 1, figsize=(20,13))\n",
    "bins = list(range(0, 10000, 500))\n",
    "ax.hist(df['Distance'], bins=bins)\n",
    "ax.set_xticks(bins, minor=True)\n",
    "ax.set_xticks([b for i, b in enumerate(bins) if i%2 == 0])\n",
    "ax.grid(which='major', linewidth=1.5, color='black')\n",
    "ax.grid(which='minor', axis='both')\n",
    "ax.set_xlabel('Distance (miles)')\n",
    "ax.set_ylabel('Number of flights')\n",
    "ax.set_title('Flight distance histogram')\n",
    "plt.savefig('figures/distance_hist.jpg', bbox_inches='tight')\n",
    "\n",
    "df.sort_values(['Distance'], ascending=True).head(10)[important_cols]\n"
   ]
  },
  {
   "cell_type": "markdown",
   "metadata": {
    "id": "Z8V-aiSUn7pb"
   },
   "source": [
    "# FLIGHTS SORTED BY DURATION"
   ]
  },
  {
   "cell_type": "code",
   "execution_count": null,
   "metadata": {
    "id": "N_-_YTQzn7pb",
    "outputId": "346d1ec6-9fb8-4d03-d485-4d82719e9e22",
    "scrolled": false
   },
   "outputs": [],
   "source": [
    "fig, ax = plt.subplots(1, 1, figsize=(20,13))\n",
    "bins = list(range(0, math.ceil(df['Duration'].max()/30)*30+30, 30))\n",
    "ax.hist(df['Duration'], bins=bins)\n",
    "ax.set_xticks(bins, minor=True)\n",
    "ax.set_xticks([b for i, b in enumerate(bins) if i%2 == 0])\n",
    "ax.set_xticklabels([b//60 for i, b in enumerate(bins) if i%2 == 0])\n",
    "ax.grid(which='major', linewidth=1.5, color='black')\n",
    "ax.grid(which='minor', axis='both')\n",
    "ax.set_xlabel('Actual flight duration (hours)')\n",
    "ax.set_ylabel('Number of flights')\n",
    "ax.set_title('Flight duration histogram')\n",
    "plt.savefig('figures/duration_hist.jpg', bbox_inches='tight')\n",
    "\n",
    "df.sort_values(['Duration'], ascending=True).head(10)[important_cols]"
   ]
  },
  {
   "cell_type": "markdown",
   "metadata": {
    "id": "Pj4kHw8tn7pc"
   },
   "source": [
    "# ALL COUNTRIES AND AIRPORTS"
   ]
  },
  {
   "cell_type": "code",
   "execution_count": null,
   "metadata": {
    "id": "b5GXLenMn7pc",
    "outputId": "6eda27af-f5c7-4ff4-d51a-ecec822856ca",
    "scrolled": true
   },
   "outputs": [],
   "source": [
    "dep_countries = df.groupby(['Dep Country', 'Dep Airport']).agg({'Date': 'count'}).reset_index()\n",
    "dep_countries.columns = ['Country', 'Airport', 'Departures']\n",
    "arr_countries = df.groupby(['Arr Country', 'Arr Airport']).agg({'Date': 'count'}).reset_index()\n",
    "arr_countries.columns = ['Country', 'Airport', 'Arrivals']\n",
    "connect_countries = df[df['Arr Connect'] == 1].groupby(['Arr Country', 'Arr Airport']).agg({'Date': 'count'}).reset_index()\n",
    "connect_countries.columns = ['Country', 'Airport', 'Connections']\n",
    "countries = pd.merge(pd.merge(dep_countries, arr_countries, how='outer'), connect_countries, how='outer').fillna(0).groupby(['Country', 'Airport']).agg({'Departures': 'first', 'Arrivals': 'first', 'Connections': 'first'})\n",
    "countries['Total Visits'] = countries['Departures'] + countries['Arrivals'] - countries['Connections']\n",
    "countries['Departures'] = countries['Departures'] - countries['Connections']\n",
    "countries['Arrivals'] = countries['Arrivals'] - countries['Connections']\n",
    "countries.astype('int32')"
   ]
  },
  {
   "cell_type": "markdown",
   "metadata": {
    "id": "r0ArDqF4n7pd"
   },
   "source": [
    "# AIRPORTS SORTED BY TOTAL VISITS"
   ]
  },
  {
   "cell_type": "code",
   "execution_count": null,
   "metadata": {
    "id": "5I2B_MPFn7pd",
    "outputId": "375cbde0-2b5c-42f4-a3f8-5d84b067ad44"
   },
   "outputs": [],
   "source": [
    "countries_sorted = countries.sort_values(by=['Total Visits'], ascending=False)\n",
    "countries_sorted = countries_sorted.astype('int32')\n",
    "countries_sorted.head(20)"
   ]
  },
  {
   "cell_type": "code",
   "execution_count": null,
   "metadata": {
    "id": "aHsrZqepn7pe",
    "outputId": "3fbcf06f-c47f-4c51-a89a-736cf5a5bce9"
   },
   "outputs": [],
   "source": [
    "fig, ax = plt.subplots(1, 1, figsize=(15,15))\n",
    "countries_sorted.reset_index().groupby('Country').agg({'Total Visits': sum}).sort_values(by='Total Visits', ascending=False).plot('Country', 'Total Visits', kind='pie', legend=False, ax=ax)\n",
    "ax.set_title('Airport visits by country')\n",
    "ax.set_ylabel('')\n",
    "plt.savefig('figures/countries.jpg', bbox_inches='tight')"
   ]
  },
  {
   "cell_type": "markdown",
   "metadata": {
    "id": "Vv8MYXbin7pe"
   },
   "source": [
    "# TOP ROUTES"
   ]
  },
  {
   "cell_type": "code",
   "execution_count": null,
   "metadata": {
    "id": "sympUpC8n7pe",
    "outputId": "d7f59dca-74cc-47de-86b2-d704fa1d693c"
   },
   "outputs": [],
   "source": [
    "routes = df.groupby(['Dep Airport', 'Arr Airport']).agg({'Date': 'count', 'Distance': sum}).sort_values(by='Date', ascending=False)\n",
    "routes.columns = ['Count', 'Total Distance']\n",
    "routes.head(10)"
   ]
  },
  {
   "cell_type": "code",
   "execution_count": null,
   "metadata": {
    "id": "b5_vZjzyn7pf",
    "outputId": "288136f1-4ad4-4f32-bbb8-5ddff67fc3ff"
   },
   "outputs": [],
   "source": [
    "df['Sorted Route'] = df.apply(lambda row: str(sorted([row['Dep Airport'], row['Arr Airport']])[0]) + ' ' + str(sorted([row['Dep Airport'], row['Arr Airport']])[1]), axis=1)\n",
    "routes_sorted = df.groupby('Sorted Route').agg({'Date': 'count', 'Distance': sum}).sort_values(by='Date', ascending=False)\n",
    "routes_sorted.columns = ['Count', 'Total Distance']\n",
    "routes_sorted[routes_sorted['Count'] >=2].reset_index()"
   ]
  },
  {
   "cell_type": "markdown",
   "metadata": {
    "id": "8M1PdNCEn7pf"
   },
   "source": [
    "# TOP AIRLINES"
   ]
  },
  {
   "cell_type": "code",
   "execution_count": null,
   "metadata": {
    "id": "TUaOAFpNn7pg",
    "outputId": "8dc37d86-0407-4361-aefc-7497c5191b64",
    "scrolled": true
   },
   "outputs": [],
   "source": [
    "airlines = df.groupby(['Airline']).agg({'Date': 'count', 'Distance': sum, 'Duration': sum}).sort_values(by='Date', ascending=False)\n",
    "airlines.columns = ['Count', 'Total Distance', 'Duration']\n",
    "airlines"
   ]
  },
  {
   "cell_type": "code",
   "execution_count": null,
   "metadata": {
    "id": "s5TlaIudn7ph",
    "outputId": "14931771-8384-437b-9dc2-2c1baa1669d7"
   },
   "outputs": [],
   "source": [
    "fig, ax = plt.subplots(1, 2, figsize=(20,10))\n",
    "airlines.plot('Airline', 'Count', kind='pie', legend=False, ax=ax[0])\n",
    "airlines.sort_values(by='Duration', ascending=False).plot('Airline', 'Duration', kind='pie', legend=False, ax=ax[1])\n",
    "ax[0].set_title('Flights by airline')\n",
    "ax[1].set_title('Total travel duration by airline')\n",
    "ax[0].set_ylabel('')\n",
    "ax[1].set_ylabel('')\n",
    "plt.savefig('figures/airlines.jpg', bbox_inches='tight')\n"
   ]
  },
  {
   "cell_type": "markdown",
   "metadata": {
    "id": "6-VsjoVVn7pi"
   },
   "source": [
    "# TOP AIRCRAFT"
   ]
  },
  {
   "cell_type": "code",
   "execution_count": null,
   "metadata": {
    "id": "BtxoHdpZn7pi",
    "outputId": "bf66df78-f3bb-401d-8995-d36f346f62d5",
    "scrolled": true
   },
   "outputs": [],
   "source": [
    "aircraft = df.groupby(['Aircraft']).agg({'Date': 'count', 'Distance': sum, 'Duration': sum}).sort_values(by='Date', ascending=False)\n",
    "aircraft.columns = ['Count', 'Total Distance', 'Duration']\n",
    "aircraft"
   ]
  },
  {
   "cell_type": "code",
   "execution_count": null,
   "metadata": {
    "id": "IAgI6xavn7pi",
    "outputId": "7500c329-bafe-48d9-f60c-bdb8715cf186"
   },
   "outputs": [],
   "source": [
    "fig, ax = plt.subplots(1, 2, figsize=(20,10))\n",
    "aircraft.plot('Aircraft', 'Count', kind='pie', legend=False, ax=ax[0])\n",
    "aircraft.sort_values(by='Duration', ascending=False).plot('Aircraft', 'Duration', kind='pie', legend=False, ax=ax[1])\n",
    "ax[0].set_title('Flights by aircraft type')\n",
    "ax[1].set_title('Total travel time by aircraft type')\n",
    "ax[0].set_ylabel('')\n",
    "ax[1].set_ylabel('')\n",
    "plt.savefig('figures/aircrafts.jpg', bbox_inches='tight')\n"
   ]
  },
  {
   "cell_type": "markdown",
   "metadata": {
    "id": "1bODepefn7pj"
   },
   "source": [
    "# TOP AIRCRAFT REGS"
   ]
  },
  {
   "cell_type": "code",
   "execution_count": null,
   "metadata": {
    "id": "JF1ZnU8Mn7pj",
    "outputId": "b8f62ec0-bbc4-4103-b7d2-847e2429a4ea",
    "scrolled": true
   },
   "outputs": [],
   "source": [
    "reg = df.groupby(['Registration', 'Aircraft']).agg({'Date': 'count', 'Distance': sum}).sort_values(by='Date', ascending=False).head(15)\n",
    "reg.columns = ['Count', 'Total Distance']\n",
    "reg"
   ]
  },
  {
   "cell_type": "markdown",
   "metadata": {
    "id": "7TOXZU_6n7pk"
   },
   "source": [
    "# TRAVEL BY YEAR"
   ]
  },
  {
   "cell_type": "code",
   "execution_count": null,
   "metadata": {
    "id": "FJwmXhvFn7pl",
    "outputId": "e63fb8e0-8a9c-42ad-ede8-cdf6791c97a7"
   },
   "outputs": [],
   "source": [
    "dist_year = df.groupby(df['Date'].dt.year).agg({'Distance': sum, 'Duration': sum, 'Date': 'count'})\n",
    "dist_year.columns = ['Distance', 'Duration', 'Flights']\n",
    "missing_years = set(range(dist_year.index.min(), dist_year.index.max())) - set(dist_year.index)\n",
    "for yr in missing_years:\n",
    "    dist_year = dist_year.append(pd.DataFrame({'Distance': 0, 'Duration': 0, 'Flights': 0}, index=[yr]))\n",
    "dist_year"
   ]
  },
  {
   "cell_type": "code",
   "execution_count": null,
   "metadata": {
    "id": "iLdOLG2fn7pl",
    "outputId": "fa81d193-e392-48a8-901b-e03b063a7646",
    "scrolled": false
   },
   "outputs": [],
   "source": [
    "fig, ax = plt.subplots(1, 2, figsize=(20,10))\n",
    "ax[0].bar(dist_year.index, dist_year['Flights'])\n",
    "ax[0].grid(axis='y')\n",
    "ax[0].set_title('Flights by year')\n",
    "ax[0].set_ylabel('Flights')\n",
    "ax[1].bar(dist_year.index, dist_year['Duration']/60)\n",
    "ax[1].grid(axis='y')\n",
    "ax[1].set_title('Total travel time by year')\n",
    "ax[1].set_ylabel('Hours')\n",
    "plt.savefig('figures/by_year.jpg', bbox_inches='tight')\n"
   ]
  },
  {
   "cell_type": "markdown",
   "metadata": {
    "id": "3vclsV4Cn7pm"
   },
   "source": [
    "# TRAVEL BY MONTH"
   ]
  },
  {
   "cell_type": "code",
   "execution_count": null,
   "metadata": {
    "id": "vxbf7zYgn7pn",
    "outputId": "f655f66c-a1eb-4357-813d-b01dcf3afccb",
    "scrolled": true
   },
   "outputs": [],
   "source": [
    "df['Month'] = df['Date']\n",
    "dist_yearm = df.groupby([df['Date'].dt.year, df['Month'].dt.month]).agg({'Distance': sum, 'Duration': sum, 'Date': 'count'})\n",
    "dist_yearm.columns = ['Distance', 'Duration', 'Flights']\n",
    "\n",
    "dist_yearm.sort_values(by='Distance', ascending=False).head(30)"
   ]
  },
  {
   "cell_type": "code",
   "execution_count": null,
   "metadata": {
    "id": "ozulwnzQn7pr",
    "outputId": "fd10a58c-610b-4042-83e6-360179c8a1bc",
    "scrolled": false
   },
   "outputs": [],
   "source": [
    "months = df['Month'].sort_values()\n",
    "start_month = months.iloc[0]\n",
    "end_month = months.iloc[-1]\n",
    "\n",
    "index = pd.period_range(start_month, end_month, freq='M')\n",
    "index_str = pd.DataFrame(index.astype(str), columns=['Y-M'])\n",
    "# dist_yearm.reindex(index)\n",
    "\n",
    "a = dist_yearm.reset_index()\n",
    "a['Date'] = a['Date'].astype('int32').astype(str)\n",
    "a['Month'] = a['Month'].astype('str').str.zfill(2)\n",
    "\n",
    "a['Y-M'] = a['Date'] + '-' + a['Month']\n",
    "a = a.merge(index_str, how='outer').sort_values(['Y-M']).fillna(0)\n",
    "\n",
    "fig, ax = plt.subplots(figsize=(30,10))\n",
    "ax.bar(a['Y-M'], a['Flights'], linewidth=5)\n",
    "ticks = [x for i, x in enumerate(list(a['Y-M'])) if i % 3 == 0]\n",
    "ax.set_xticks(ticks)\n",
    "ax.set_xticklabels(ticks, rotation=45)\n",
    "ax.set_ylabel('Flights')\n",
    "ax.set_title('Flights by month')\n",
    "ax.grid(True)\n",
    "\n",
    "\n",
    "for year in range(df['Date'].dt.year.min(), df['Date'].dt.year.max()+1): \n",
    "    if str(year) + '-01' in a['Y-M'].tolist():\n",
    "        ax.axvline(str(year) + '-01', linewidth=3, color='red')\n",
    "        \n",
    "plt.savefig('figures/flights_by_month.jpg', bbox_inches='tight')\n"
   ]
  },
  {
   "cell_type": "code",
   "execution_count": null,
   "metadata": {},
   "outputs": [],
   "source": [
    "fig, ax = plt.subplots(figsize=(30,10))\n",
    "ax.bar(a['Y-M'], a['Distance'], linewidth=5)\n",
    "ticks = [x for i, x in enumerate(list(a['Y-M'])) if i % 3 == 0]\n",
    "ax.set_xticks(ticks)\n",
    "ax.set_xticklabels(ticks, rotation=45)\n",
    "ax.set_ylabel('Distance (miles)')\n",
    "ax.set_title('Distance by month')\n",
    "ax.grid(True)\n",
    "\n",
    "\n",
    "for year in range(df['Date'].dt.year.min(), df['Date'].dt.year.max()+1): \n",
    "    if str(year) + '-01' in a['Y-M'].tolist():\n",
    "        ax.axvline(str(year) + '-01', linewidth=3, color='red')\n",
    "        \n",
    "plt.savefig('figures/distance_month.jpg', bbox_inches='tight')"
   ]
  },
  {
   "cell_type": "code",
   "execution_count": null,
   "metadata": {},
   "outputs": [],
   "source": [
    "fig, ax = plt.subplots(figsize=(30,10))\n",
    "ax.bar(a['Y-M'], a['Duration']/60, linewidth=5)\n",
    "ticks = [x for i, x in enumerate(list(a['Y-M'])) if i % 3 == 0]\n",
    "ax.set_xticks(ticks)\n",
    "ax.set_xticklabels(ticks, rotation=45)\n",
    "ax.set_ylabel('Time (h)')\n",
    "ax.set_title('Travel time by month')\n",
    "ax.grid(True)\n",
    "\n",
    "\n",
    "for year in range(df['Date'].dt.year.min(), df['Date'].dt.year.max()+1): \n",
    "    if str(year) + '-01' in a['Y-M'].tolist():\n",
    "        ax.axvline(str(year) + '-01', linewidth=3, color='red')\n",
    "        \n",
    "plt.savefig('figures/time_month.jpg', bbox_inches='tight')"
   ]
  },
  {
   "cell_type": "markdown",
   "metadata": {
    "id": "rK2TiCo4n7ps"
   },
   "source": [
    "# DOMESTIC AND INTERNATIONAL BREAKDOWN"
   ]
  },
  {
   "cell_type": "code",
   "execution_count": null,
   "metadata": {
    "id": "ATuLVPpnn7pt",
    "outputId": "871ea019-b961-46f9-f457-49cc50af2821"
   },
   "outputs": [],
   "source": [
    "dom_int = df.groupby('Domestic/International').agg({'Distance': sum, 'Date': 'count'})\n",
    "dom_int.columns = ['Distance', 'Flights']\n",
    "dom_int"
   ]
  },
  {
   "cell_type": "code",
   "execution_count": null,
   "metadata": {
    "id": "fZn1dPkDn7pt",
    "outputId": "3879a289-2702-4053-cb30-18be4499e679"
   },
   "outputs": [],
   "source": [
    "print('Domestic average dist: ' + str(dom_int.loc['Domestic', 'Distance'] / dom_int.loc['Domestic', 'Flights']))\n",
    "print('International average dist: ' + str(dom_int.loc['International', 'Distance'] / dom_int.loc['International', 'Flights']))"
   ]
  },
  {
   "cell_type": "code",
   "execution_count": null,
   "metadata": {
    "id": "ByAq8Hiqn7pu",
    "outputId": "1dcf44f3-e5d5-4b3e-e041-ec5c535c39d5"
   },
   "outputs": [],
   "source": [
    "year_dom_int = df.groupby([df['Date'].dt.year, 'Domestic/International']).agg({'Distance': sum, 'Date': 'count'})\n",
    "year_dom_int.columns = ['Distance', 'Flights']\n",
    "year_dom_int"
   ]
  },
  {
   "cell_type": "code",
   "execution_count": null,
   "metadata": {
    "id": "GrnnFq4xn7pu",
    "outputId": "91c219e7-d0bd-4d5b-c139-e8f1ff2d7af1"
   },
   "outputs": [],
   "source": [
    "clas = df.groupby('Class').agg({'Distance': sum, 'Date': 'count'})\n",
    "clas.columns = ['Distance', 'Flights']\n",
    "clas"
   ]
  },
  {
   "cell_type": "markdown",
   "metadata": {
    "id": "NLJNlz51n7pv"
   },
   "source": [
    "# FARE CLASS BREAKDOWN"
   ]
  },
  {
   "cell_type": "code",
   "execution_count": null,
   "metadata": {
    "id": "FWEgX4mCn7px",
    "outputId": "0e29b337-b92b-4c59-eda2-12f046f7c804"
   },
   "outputs": [],
   "source": [
    "year_clas = df.groupby([df['Date'].dt.year, 'Class']).agg({'Distance': sum, 'Date': 'count'})\n",
    "year_clas.columns = ['Distance', 'Flights']\n",
    "year_clas"
   ]
  },
  {
   "cell_type": "markdown",
   "metadata": {
    "id": "q5TAgpJvn7px"
   },
   "source": [
    "\n",
    "# CLASS AND TRIP TYPE BREAKDOWN"
   ]
  },
  {
   "cell_type": "code",
   "execution_count": null,
   "metadata": {
    "id": "Ii_iFwuun7px",
    "outputId": "0cfc3131-1776-4f45-a3c6-9c5f0e6ceab7"
   },
   "outputs": [],
   "source": [
    "clas_dom_int = df.groupby(['Domestic/International', 'Class']).agg({'Distance': sum, 'Date': 'count'})\n",
    "clas_dom_int.columns = ['Distance', 'Flights']\n",
    "clas_dom_int"
   ]
  },
  {
   "cell_type": "code",
   "execution_count": null,
   "metadata": {
    "id": "Ru8TfKnBn7px",
    "outputId": "ef548d40-8b21-425a-e6d0-ecc9c73d8834"
   },
   "outputs": [],
   "source": [
    "fig, ax = plt.subplots(1, 2, figsize=(20,10))\n",
    "clas_dom_int.plot('Class', 'Flights', kind='pie', legend=False, ax=ax[0])\n",
    "clas_dom_int.plot('Class', 'Distance', kind='pie', legend=False, ax=ax[1])\n",
    "ax[0].set_title('Flights by class and trip type')\n",
    "ax[1].set_title('Total distance by class and trip type')\n",
    "ax[0].set_ylabel('')\n",
    "ax[1].set_ylabel('')\n",
    "plt.savefig('figures/class_and_type.jpg', bbox_inches='tight')"
   ]
  },
  {
   "cell_type": "markdown",
   "metadata": {},
   "source": [
    "# DEP, ARR TIMES, DELAYS"
   ]
  },
  {
   "cell_type": "code",
   "execution_count": null,
   "metadata": {},
   "outputs": [],
   "source": [
    "# ARRIVAL DEAYS\n",
    "\n",
    "early_arrivals = df[df['Arr Delay'] < 0].shape[0]\n",
    "on_time_arrivals = df[(df['Arr Delay'] >= 0) & (df['Arr Delay'] < 15)].shape[0]\n",
    "late_arrivals = df[(df['Arr Delay'] >= 15) & (df['Arr Delay'] < 60)].shape[0]\n",
    "really_late_arrivals = df[df['Arr Delay'] >= 60].shape[0]\n",
    "\n",
    "print('Early arrivals:', early_arrivals, str(round(100*early_arrivals/NUM_FLIGHTS))+'%')\n",
    "print('On time arrivals (within 15 min):', on_time_arrivals, str(round(100*on_time_arrivals/NUM_FLIGHTS))+'%')\n",
    "print('Late arrivals:', late_arrivals, str(round(100*late_arrivals/NUM_FLIGHTS))+'%')\n",
    "print('Really late arrivals (1+hour):', really_late_arrivals, str(round(100*really_late_arrivals/NUM_FLIGHTS))+'%')\n",
    "\n",
    "df.sort_values('Arr Delay', ascending=False).head(50)[important_cols]"
   ]
  },
  {
   "cell_type": "code",
   "execution_count": null,
   "metadata": {},
   "outputs": [],
   "source": [
    "bins = list(range(-60, math.ceil(df['Arr Delay'].max()/30)*30+30, 15))\n",
    "fig, ax = plt.subplots(figsize=(20,13))\n",
    "ax.hist(df['Arr Delay'], bins=bins)\n",
    "ax.set_xticks(bins, minor=True)\n",
    "ax.set_xticks([b for i, b in enumerate(bins) if b%2 == 0])\n",
    "ax.grid(which='major', linewidth=1.5, color='black')\n",
    "ax.grid(which='minor', axis='both')\n",
    "ax.set_xlabel('Arrival delay (min)')\n",
    "ax.set_ylabel('Number of flights')\n",
    "ax.set_title('Arrival delay histogram')\n",
    "ax.axvline(0, linewidth=5, color='red')\n",
    "plt.savefig('figures/arrival_delay.jpg', bbox_inches='tight')\n"
   ]
  },
  {
   "cell_type": "code",
   "execution_count": null,
   "metadata": {},
   "outputs": [],
   "source": [
    "# DEPARTURE DELAYS\n",
    "\n",
    "early_departures = df[df['Dep Delay'] < 0].shape[0]\n",
    "on_time_departures = df[(df['Dep Delay'] >= 0) & (df['Dep Delay'] < 15)].shape[0]\n",
    "late_departures = df[(df['Dep Delay'] >= 15) & (df['Dep Delay'] < 60)].shape[0]\n",
    "really_late_departures = df[df['Dep Delay'] >= 60].shape[0]\n",
    "\n",
    "\n",
    "print('Early departures:', early_departures, str(round(100*early_departures/NUM_FLIGHTS))+'%')\n",
    "print('On time departures (within 15 min):', on_time_departures, str(round(100*on_time_departures/NUM_FLIGHTS))+'%')\n",
    "print('Late departures:', late_departures, str(round(100*late_departures/NUM_FLIGHTS))+'%')\n",
    "print('Really late departures (1+hour):', really_late_departures, str(round(100*really_late_departures/NUM_FLIGHTS))+'%')\n",
    "\n",
    "df.sort_values('Dep Delay', ascending=False).head(10)[important_cols]"
   ]
  },
  {
   "cell_type": "code",
   "execution_count": null,
   "metadata": {},
   "outputs": [],
   "source": [
    "bins = list(range(-60, math.ceil(df['Dep Delay'].max()/30)*30+30, 15))\n",
    "fig, ax = plt.subplots(figsize=(20,13))\n",
    "ax.hist(df['Dep Delay'], bins=bins)\n",
    "ax.set_xticks(bins, minor=True)\n",
    "ax.set_xticks([b for i, b in enumerate(bins) if b%2 == 0])\n",
    "ax.grid(which='major', linewidth=1.5, color='black')\n",
    "ax.grid(which='minor', axis='both')\n",
    "ax.set_xlabel('Departure delay (min)')\n",
    "ax.set_ylabel('Number of flights')\n",
    "ax.set_title('Departure delay histogram')\n",
    "ax.axvline(0, linewidth=5, color='red')\n",
    "plt.savefig('figures/departure_delay.jpg', bbox_inches='tight')\n"
   ]
  },
  {
   "cell_type": "markdown",
   "metadata": {},
   "source": [
    "# DEPARTURE/ARRIVAL TIMES"
   ]
  },
  {
   "cell_type": "code",
   "execution_count": null,
   "metadata": {},
   "outputs": [],
   "source": [
    "morning_flights = df[(df['Scheduled Dep Time (Local)'].dt.hour >= 5) & (df['Scheduled Dep Time (Local)'].dt.hour <= 11)].shape[0]\n",
    "afternoon_flights = df[(df['Scheduled Dep Time (Local)'].dt.hour >= 12) & (df['Scheduled Dep Time (Local)'].dt.hour <= 17)].shape[0]\n",
    "evening_flights = df[(df['Scheduled Dep Time (Local)'].dt.hour >= 18) & (df['Scheduled Dep Time (Local)'].dt.hour <= 22)].shape[0]\n",
    "late_night_flights = df[(df['Scheduled Dep Time (Local)'].dt.hour >= 23) | (df['Scheduled Dep Time (Local)'].dt.hour <= 4)].shape[0]\n",
    "\n",
    "print('Morning flights (5a-12p): ' + str(morning_flights) + ', ' + str(int(round(100*morning_flights/NUM_FLIGHTS))) + '%')\n",
    "print('Afternoon flights (12p-6p): ' + str(afternoon_flights) + ', ' + str(int(round(100*afternoon_flights/NUM_FLIGHTS))) + '%')\n",
    "print('Evening flights (6p-11p): ' + str(evening_flights) + ', ' + str(int(round(100*evening_flights/NUM_FLIGHTS))) + '%')\n",
    "print('Late nights flights (11p-5a): ' + str(late_night_flights) + ', ' + str(int(round(100*late_night_flights/NUM_FLIGHTS))) + '%')\n",
    "\n",
    "df['Scheduled dep hour'] = df['Scheduled Dep Time (Local)'].dt.hour\n",
    "df['Scheduled arr hour'] = df['Scheduled Arr Time (Local)'].dt.hour\n",
    "df['Actual dep hour'] = df['Actual Dep Time (Local)'].dt.hour\n",
    "df['Actual arr hour'] = df['Actual Arr Time (Local)'].dt.hour\n",
    "\n",
    "scheduled_dep_hour = df.groupby('Scheduled dep hour') .agg({'Date': 'count'}).reset_index().rename(columns={'Scheduled dep hour': 'Hour', 'Date': 'Count'})\n",
    "for h in set(range(0, 24)) - set(scheduled_dep_hour['Hour']):\n",
    "    scheduled_dep_hour = scheduled_dep_hour.append(pd.DataFrame({'Hour': h, 'Count': 0}, index=[0]))\n",
    "scheduled_dep_hour = scheduled_dep_hour.sort_values(by='Hour')\n",
    "\n",
    "scheduled_arr_hour = df.groupby('Scheduled arr hour').agg({'Date': 'count'}).reset_index().rename(columns={'Scheduled arr hour': 'Hour', 'Date': 'Count'})\n",
    "for h in set(range(0, 24)) - set(scheduled_arr_hour['Hour']):\n",
    "    scheduled_arr_hour = scheduled_arr_hour.append(pd.DataFrame({'Hour': h, 'Count': 0}, index=[0]))\n",
    "scheduled_arr_hour = scheduled_arr_hour.sort_values(by='Hour')\n",
    "\n",
    "actual_dep_hour = df.groupby('Actual dep hour').agg({'Date': 'count'}).reset_index().rename(columns={'Actual dep hour': 'Hour', 'Date': 'Count'})\n",
    "for h in set(range(0, 24)) - set(actual_dep_hour['Hour']):\n",
    "    actual_dep_hour = actual_dep_hour.append(pd.DataFrame({'Hour': h, 'Count': 0}, index=[0]))\n",
    "actual_dep_hour = actual_dep_hour.sort_values(by='Hour')\n",
    "\n",
    "actual_arr_hour = df.groupby('Actual arr hour').agg({'Date': 'count'}).reset_index().rename(columns={'Actual arr hour': 'Hour', 'Date': 'Count'})\n",
    "for h in set(range(0, 24)) - set(actual_arr_hour['Hour']):\n",
    "    actual_arr_hour = actual_arr_hour.append(pd.DataFrame({'Hour': h, 'Count': 0}, index=[0]))\n",
    "actual_arr_hour = actual_arr_hour.sort_values(by='Hour')\n",
    "\n",
    "fig, ax = plt.subplots(2, 2, figsize=(20,20))\n",
    "ax[0, 0].plot(scheduled_dep_hour['Hour'], scheduled_dep_hour['Count'], linewidth=5)\n",
    "ax[0, 0].grid(True)\n",
    "ax[0, 0].set_xticks(range(0,24,4))\n",
    "ax[0, 0].set_xlabel('Hour')\n",
    "ax[0, 0].set_yticks(np.arange(min(scheduled_dep_hour['Count']), max(scheduled_dep_hour['Count'])+1, 2.0))\n",
    "ax[0, 0].set_ylabel('Flights')\n",
    "ax[0, 0].set_title('Flights by scheduled departure hour')\n",
    "\n",
    "ax[1, 0].plot(actual_dep_hour['Hour'], actual_dep_hour['Count'], linewidth=5)\n",
    "ax[1, 0].grid(True)\n",
    "ax[1, 0].set_xticks(range(0,24,4))\n",
    "ax[1, 0].set_xlabel('Hour')\n",
    "ax[1, 0].set_yticks(np.arange(min(actual_dep_hour['Count']), max(actual_dep_hour['Count'])+1, 2.0))\n",
    "ax[1, 0].set_ylabel('Flights')\n",
    "ax[1, 0].set_title('Flights by actual departure hour')\n",
    "\n",
    "ax[0, 1].plot(scheduled_arr_hour['Hour'], scheduled_arr_hour['Count'], linewidth=5)\n",
    "ax[0, 1].grid(True)\n",
    "ax[0, 1].set_xticks(range(0,24,4))\n",
    "ax[0, 1].set_xlabel('Hour')\n",
    "ax[0, 1].set_yticks(np.arange(min(scheduled_arr_hour['Count']), max(scheduled_arr_hour['Count'])+1, 2.0))\n",
    "ax[0, 1].set_ylabel('Flights')\n",
    "ax[0, 1].set_title('Flights by scheduled arrival hour')\n",
    "\n",
    "ax[1, 1].plot(actual_arr_hour['Hour'], actual_arr_hour['Count'], linewidth=5)\n",
    "ax[1, 1].grid(True)\n",
    "ax[1, 1].set_xticks(range(0,24,4))\n",
    "ax[1, 1].set_xlabel('Hour')\n",
    "ax[1, 1].set_yticks(np.arange(min(actual_arr_hour['Count']), max(actual_arr_hour['Count'])+1, 2.0))\n",
    "ax[1, 1].set_ylabel('Flights')\n",
    "ax[1, 1].set_title('Flights by actual arrival hour')\n",
    "plt.savefig('figures/by_hour.jpg', bbox_inches='tight')\n",
    "\n"
   ]
  },
  {
   "cell_type": "markdown",
   "metadata": {
    "id": "TF0P6hhfn7py"
   },
   "source": [
    "# ROUTES"
   ]
  },
  {
   "cell_type": "code",
   "execution_count": null,
   "metadata": {
    "id": "fxgGvxsin7py",
    "scrolled": true
   },
   "outputs": [],
   "source": [
    "import pyproj\n",
    "from geojson import LineString, Feature, FeatureCollection, dump\n",
    "import geopy.distance\n",
    "\n",
    "\n",
    "def get_hist(x):\n",
    "    dct = {a: x.tolist().count(a) for a in x.tolist()}\n",
    "    return ';'.join([str(list(dct.keys())[i]) + ',' + str(list(dct.values())[i]) for i in range(len(dct))])\n",
    "\n",
    "\n",
    "def augment_routes(df):\n",
    "    route_grouped = df.groupby('Sorted Route')\n",
    "    df[['Class', 'Airline', 'Flight']] = df[['Class', 'Airline', 'Flight']].fillna('Unknown')\n",
    "    df['route_date_string'] = route_grouped['Date'].transform(lambda x: ';'.join(str(a) for a in x))\n",
    "    df['route_class_hist'] = route_grouped['Class'].transform(get_hist)#(lambda x: str(x.tolist().count('Economy')) + ',' + str(x.tolist().count('Business')))\n",
    "    df['route_airline_hist'] = route_grouped['Airline'].transform(get_hist)\n",
    "    df['route_flight_string'] = route_grouped['Flight'].transform(lambda x: ';'.join(x))\n",
    "    df['route_origin_hist'] = route_grouped['Dep Airport'].transform(get_hist)\n",
    "    grouped = df.groupby('Sorted Route').first()[['Distance', 'Duration', 'Domestic/International',\n",
    "                                        'route_date_string', 'route_class_hist', 'route_airline_hist', 'route_flight_string', 'route_origin_hist'\n",
    "                                       ]]\n",
    "    grouped['count'] = grouped['route_date_string'].apply(lambda x: len(x.split(';')))\n",
    "\n",
    "    grouped = grouped.reset_index()\n",
    "    grouped['Dep IATA'] = grouped['Sorted Route'].apply(lambda x: x.split(' ')[0])\n",
    "    grouped['Arr IATA'] = grouped['Sorted Route'].apply(lambda x: x.split(' ')[1])\n",
    "    grouped = grouped.merge(airports[['IATA', 'Name', 'City', 'Country', 'Lat', 'Long']], left_on='Dep IATA', right_on='IATA', how='left')\n",
    "    grouped = grouped.drop(columns='IATA').rename(columns={'Name': 'Dep Name', 'City': 'Dep City', 'Country': 'Dep Country', 'Lat': 'Dep Lat', 'Long': 'Dep Long'})\n",
    "    grouped = grouped.merge(airports[['IATA', 'Name', 'City', 'Country', 'Lat', 'Long']], left_on='Arr IATA', right_on='IATA', how='left')\n",
    "    grouped = grouped.drop(columns='IATA').rename(columns={'Name': 'Arr Name', 'City': 'Arr City', 'Country': 'Arr Country', 'Lat': 'Arr Lat', 'Long': 'Arr Long'})\n",
    "\n",
    "    return grouped\n",
    "\n",
    "\n",
    "\n",
    "\n",
    "def get_path(startlong, startlat, endlong, endlat):\n",
    "    # calculate distance between points\n",
    "    g = pyproj.Geod(ellps='WGS84')\n",
    "    (az12, az21, dist) = g.inv(startlong, startlat, endlong, endlat)\n",
    "\n",
    "    # calculate line string along path with segments <= 1 km\n",
    "    lonlats = g.npts(startlong, startlat, endlong, endlat,\n",
    "                     1 + int(dist / 5000))\n",
    "    \n",
    "    # npts doesn't include start/end points, so prepend/append them\n",
    "    lonlats.insert(0, (startlong, startlat))\n",
    "    lonlats.append((endlong, endlat))\n",
    "    offset = 0\n",
    "    for i in range(len(lonlats)-1):\n",
    "        if lonlats[i][0] > 0 and lonlats[i+1][0] < 0 and lonlats[i+1][0] < -170:\n",
    "            offset = 360\n",
    "        elif lonlats[i][0] < 0 and lonlats[i+1][0] > 0 and lonlats[i+1][0] > 170:\n",
    "            offset = -360\n",
    "        lonlats[i+1] = (lonlats[i+1][0] + offset , lonlats[i+1][1])\n",
    "#     print(len(lonlats))\n",
    "    return LineString(lonlats)\n",
    "\n",
    "\n",
    "def make_route_geojson(df, path):\n",
    "    \n",
    "    grouped = augment_routes(df)\n",
    "    \n",
    "    features = []\n",
    "    for i, row in grouped.iterrows():\n",
    "    #     lats = row['Sorted Lat'].split(';')\n",
    "    #     longs = row['Sorted Long'].split(';')\n",
    "        properties = properties = {'start_iata': row['Dep IATA'], \n",
    "                              'start_name': row['Dep Name'], \n",
    "                              'start_city_country': row['Dep City'] + ', ' + row['Dep Country'], \n",
    "                              'end_iata': row['Arr IATA'], \n",
    "                              'end_name': row['Arr Name'], \n",
    "                              'end_city_country': row['Arr City'] + ', ' + row['Arr Country'],  \n",
    "                              'dist': row['Distance'], \n",
    "                              'dur': row['Duration'],\n",
    "                              'domint': row['Domestic/International'],\n",
    "                              'count': row['count'],\n",
    "                              'earliest_date': row['route_date_string'].split(';')[0].split(' ')[0],\n",
    "                              'latest_date': row['route_date_string'].split(';')[-1].split(' ')[0],\n",
    "                              'date_string': row['route_date_string'],\n",
    "                              'class_hist': row['route_class_hist'],\n",
    "                              'airline_hist': row['route_airline_hist'],\n",
    "                              'flight_string': row['route_flight_string'],\n",
    "                              'origin_hist': row['route_origin_hist']\n",
    "                             }\n",
    "        features.append(Feature(geometry=get_path(row['Dep Long'], row['Dep Lat'], \n",
    "                                                  row['Arr Long'], row['Arr Lat']),\n",
    "                                properties = properties))\n",
    "    fc = FeatureCollection(features)\n",
    "\n",
    "    with open(path, 'w') as f:\n",
    "        dump(fc, f)\n",
    "\n"
   ]
  },
  {
   "cell_type": "markdown",
   "metadata": {
    "id": "IvZvgY3xn7pz"
   },
   "source": [
    "# AIRPORTS AUGMENTED"
   ]
  },
  {
   "cell_type": "code",
   "execution_count": null,
   "metadata": {
    "id": "vuCeZ1ddn7pz"
   },
   "outputs": [],
   "source": [
    "from geojson import Point, Feature, FeatureCollection, dump\n",
    "\n",
    "def augment_airports(df):\n",
    "    df['Year'] = df['Date'].dt.year\n",
    "\n",
    "    dep_grouped = df.groupby('Dep Airport')\n",
    "    df['dep_dest_hist'] = dep_grouped['Arr Airport'].transform(get_hist)\n",
    "    df['dep_count'] = dep_grouped['Date'].transform(lambda v: v.shape[0])\n",
    "    df['dep_first'] = dep_grouped['Date'].transform(lambda v: min(v))\n",
    "    df['dep_last'] = dep_grouped['Date'].transform(lambda v: max(v))\n",
    "    df['dep_airline_hist'] = dep_grouped['Airline'].transform(get_hist)\n",
    "    df['dep_intdom_hist'] = dep_grouped['Domestic/International'].transform(get_hist)\n",
    "    df['dep_year_hist'] = dep_grouped['Year'].transform(get_hist)\n",
    "\n",
    "    arr_grouped = df.groupby('Arr Airport')\n",
    "    df['arr_dest_hist'] = arr_grouped['Dep Airport'].transform(get_hist)\n",
    "    df['arr_count'] = arr_grouped['Date'].transform(lambda v: v.shape[0])\n",
    "    df['arr_first'] = arr_grouped['Date'].transform(lambda v: min(v))\n",
    "    df['arr_last'] = arr_grouped['Date'].transform(lambda v: max(v))\n",
    "    df['arr_conn_count'] = arr_grouped['Arr Connect'].transform(lambda v: int(v.sum())).astype('int')\n",
    "    df['arr_airline_hist'] = arr_grouped['Airline'].transform(get_hist)\n",
    "    df['arr_intdom_hist'] = arr_grouped['Domestic/International'].transform(get_hist)\n",
    "    df['arr_year_hist'] = arr_grouped['Year'].transform(get_hist)\n",
    "\n",
    "    df['arr_conn_year_hist'] = df[df['Arr Connect'] == 1].groupby('Arr Airport')['Year'].transform(get_hist)\n",
    "\n",
    "    df = df.drop(columns='arr_conn_year_hist').merge(df[['Arr Airport', 'arr_conn_year_hist']].dropna().drop_duplicates(), on='Arr Airport', how='left')\n",
    "\n",
    "    deps = df.groupby('Dep Airport').first()[['Dep Name', 'Dep City', 'Dep Country', 'Dep Lat', 'Dep Long',\n",
    "                                       'dep_dest_hist', 'dep_count', 'dep_first', 'dep_last', 'dep_airline_hist', 'dep_intdom_hist', 'dep_year_hist'\n",
    "                                      ]].reset_index()\n",
    "    arrcons = df.groupby('Arr Airport').first()[['Arr Name', 'Arr City', 'Arr Country', 'Arr Lat', 'Arr Long',\n",
    "                                                 'arr_dest_hist', 'arr_count', 'arr_first', 'arr_last', 'arr_airline_hist', 'arr_intdom_hist', 'arr_year_hist',\n",
    "                                       'arr_conn_count', 'arr_conn_year_hist'\n",
    "                                      ]].reset_index()\n",
    "    airports_aug = deps.merge(arrcons, left_on='Dep Airport', right_on='Arr Airport', how='outer')\n",
    "    \n",
    "    def merge_names(row):\n",
    "        for col in ['Airport', 'Name', 'City', 'Country']:\n",
    "            row[col] = row['Dep '+ col] if type(row['Dep '+ col]) == str else row['Arr '+ col]\n",
    "        for col in ['Lat', 'Long']:\n",
    "            row[col] = row['Dep '+ col] if not np.isnan(row['Dep '+ col]) else row['Arr '+ col]\n",
    "        return row\n",
    "\n",
    "\n",
    "    airports_aug = airports_aug.apply(merge_names, axis=1)\n",
    "    airports_aug = airports_aug.rename(columns={'Airport': 'IATA'})\n",
    "\n",
    "    airports_aug = airports_aug[['IATA', 'Name', 'City', 'Country', 'Lat', 'Long',\n",
    "                                 'dep_count', 'arr_count', 'arr_conn_count',\n",
    "                                 'dep_dest_hist', 'arr_dest_hist',\n",
    "                                 'dep_first', 'arr_first', 'dep_last', 'arr_last',\n",
    "                                 'dep_airline_hist', 'arr_airline_hist',\n",
    "                                 'dep_intdom_hist', 'arr_intdom_hist',\n",
    "                                 'dep_year_hist', 'arr_year_hist', 'arr_conn_year_hist'\n",
    "                                ]]\n",
    "    airports_aug['dep_count'] = airports_aug['dep_count'].fillna(0) - airports_aug['arr_conn_count'].fillna(0)\n",
    "    airports_aug['arr_count'] = airports_aug['arr_count'].fillna(0) - airports_aug['arr_conn_count'].fillna(0)\n",
    "\n",
    "    def subtract_hist(row):\n",
    "        dep_hist = {int(x.split(',')[0]): int(x.split(',')[1]) for x in row['dep_year_hist'].split(';')} if row['dep_year_hist'] != '' else {}\n",
    "        arr_hist = {int(x.split(',')[0]): int(x.split(',')[1]) for x in row['arr_year_hist'].split(';')} if row['arr_year_hist'] != '' else {}\n",
    "        conn_hist = {int(x.split(',')[0]): int(x.split(',')[1]) for x in row['arr_conn_year_hist'].split(';')} if row['arr_conn_year_hist'] != '' else {}\n",
    "\n",
    "        for year in conn_hist:\n",
    "            if year in dep_hist:\n",
    "                dep_hist[year] -= conn_hist[year]\n",
    "            else:\n",
    "                print(year, 'not in dep')\n",
    "            if year in arr_hist:\n",
    "                arr_hist[year] -= conn_hist[year]\n",
    "            else:\n",
    "                print(year, 'not in arr')\n",
    "\n",
    "        row['dep_year_hist'] = ';'.join([str(x) + ',' + str(dep_hist[x]) for x in dep_hist if dep_hist[x] > 0])\n",
    "        row['arr_year_hist'] = ';'.join([str(x) + ',' + str(arr_hist[x]) for x in arr_hist if arr_hist[x] > 0])\n",
    "        full_year_hist = {}\n",
    "        for key in dep_hist:\n",
    "            full_year_hist[key] = full_year_hist[key] + dep_hist[key] if key in full_year_hist else dep_hist[key]\n",
    "        for key in arr_hist:\n",
    "            full_year_hist[key] = full_year_hist[key] + arr_hist[key] if key in full_year_hist else arr_hist[key]\n",
    "        for key in conn_hist:\n",
    "            full_year_hist[key] = full_year_hist[key] + conn_hist[key] if key in full_year_hist else conn_hist[key]\n",
    "        row['full_year_hist'] = ';'.join([str(x) + ',' + str(full_year_hist[x]) for x in full_year_hist if full_year_hist[x] > 0])\n",
    "        return row\n",
    "\n",
    "    airports_aug[['dep_year_hist', 'arr_year_hist', 'arr_conn_year_hist']] = airports_aug[['dep_year_hist', 'arr_year_hist', 'arr_conn_year_hist']].fillna('')\n",
    "    airports_aug = airports_aug.apply(subtract_hist, axis=1)\n",
    "    airports_aug['total'] = airports_aug['dep_count'].fillna(0) + airports_aug['arr_count'].fillna(0) + airports_aug['arr_conn_count'].fillna(0)\n",
    "    airports_aug['first'] = airports_aug.apply(lambda row: min(row['dep_first'], row['arr_first']), axis=1)\n",
    "    airports_aug['last'] = airports_aug.apply(lambda row: min(row['dep_last'], row['arr_last']), axis=1)\n",
    "    year_airports_aug.append(airports_aug)\n",
    "    return airports_aug\n",
    "\n",
    "def make_airport_geojson(df, path):\n",
    "    airports_aug = augment_airports(df)\n",
    "    for col in ['dep_first', 'arr_first', 'dep_last', 'arr_last', 'first', 'last']:\n",
    "        airports_aug[col] = airports_aug[col].dt.strftime('%Y-%m-%d')\n",
    "    airports_aug = airports_aug.fillna('')\n",
    "    features = []\n",
    "    for i, row in airports_aug.iterrows():\n",
    "#         print(row.drop(['Lat', 'Long']).to_dict())\n",
    "        features.append(Feature(geometry=Point((row['Long'], row['Lat'])), properties=row.drop(['Lat', 'Long']).to_dict()))\n",
    "    fc = FeatureCollection(features)\n",
    "    with open(path, 'w') as f:\n",
    "        dump(fc, f)\n"
   ]
  },
  {
   "cell_type": "code",
   "execution_count": null,
   "metadata": {
    "id": "JmxukddZn7pz",
    "outputId": "24124e8d-72e0-4b3e-8b91-8dd64dd7afd3"
   },
   "outputs": [],
   "source": [
    "#### MAKE ROUTES\n",
    "year_airports_aug = [] # first one is all\n",
    "\n",
    "make_route_geojson(df, ROOT_DIR + 'routes_all.geojson')\n",
    "make_airport_geojson(df, ROOT_DIR + 'airports_all.geojson')\n",
    "\n",
    "all_years = df['Date'].dt.year.unique().tolist()\n",
    "first_month = min(df[df['Date'].dt.year == all_years[0]]['Date'].dt.month)\n",
    "last_month = max(df[df['Date'].dt.year == all_years[-1]]['Date'].dt.month)\n",
    "\n",
    "with open(ROOT_DIR + \"month_range.txt\", \"w\") as text_file:\n",
    "    text_file.write(','.join(str(x) for x in all_years) + '\\n' + str(first_month) + ',' + str(last_month))\n",
    "\n",
    "for year in all_years:\n",
    "    make_route_geojson(df[df['Date'].dt.year == year], ROOT_DIR + 'routes_' + str(year) + '.geojson')\n",
    "    make_airport_geojson(df[df['Date'].dt.year == year], ROOT_DIR + 'airports_' + str(year) + '.geojson')\n",
    "\n",
    "print('years done')\n",
    "\n",
    "for year in all_years:\n",
    "    print(year)\n",
    "    for month in range(1, 13):\n",
    "        if year == all_years[0] and month < first_month:\n",
    "            continue\n",
    "        if year == all_years[-1] and month > last_month:\n",
    "            continue\n",
    "        print('  ', month)\n",
    "        simp_df = pd.concat([df[df['Date'].dt.year < year], df[df['Date'].dt.year == year][df['Date'].dt.month <= month]], ignore_index=True)\n",
    "        make_route_geojson(simp_df, ROOT_DIR + 'routes_cum_' + str(year) + '_' + str(month) + '.geojson')\n",
    "        make_airport_geojson(simp_df, ROOT_DIR + 'airports_cum_' + str(year) + '_' + str(month) + '.geojson')\n",
    "    \n"
   ]
  },
  {
   "cell_type": "markdown",
   "metadata": {
    "id": "qf29om3Zn7p0"
   },
   "source": [
    "# PRINTING"
   ]
  },
  {
   "cell_type": "code",
   "execution_count": null,
   "metadata": {
    "id": "ydJZe1hYn7p0",
    "scrolled": true
   },
   "outputs": [],
   "source": [
    "def get_stats(df, airports_aug, year=None, ab=False):\n",
    "    print(year)\n",
    "    TOTAL_DIST = df['Distance'].sum()\n",
    "    TOTAL_TIME = df['Duration'].sum()\n",
    "    NUM_FLIGHTS = df['Date'].count()\n",
    "    NUM_AIRLINES = df['Airline'].nunique()\n",
    "    NUM_COUNTRIES = len(set(df['Dep Country'].tolist()) | set(df['Arr Country'].tolist()))\n",
    "    NUM_AIRPORTS = len(set(df['Dep Airport'].tolist()) | set(df['Arr Airport'].tolist()))\n",
    "\n",
    "    dep_countries = df.groupby(['Dep Country', 'Dep Airport']).agg({'Date': 'count'}).reset_index()\n",
    "    dep_countries.columns = ['Country', 'Airport', 'Departures']\n",
    "    arr_countries = df.groupby(['Arr Country', 'Arr Airport']).agg({'Date': 'count'}).reset_index()\n",
    "    arr_countries.columns = ['Country', 'Airport', 'Arrivals']\n",
    "    countries = pd.merge(dep_countries, arr_countries, how='outer').fillna(0).groupby(['Country', 'Airport']).agg({'Departures': 'first', 'Arrivals': 'first'})\n",
    "    countries['Total Dep/Arr'] = countries['Departures'] + countries['Arrivals']\n",
    "\n",
    "    routes_sorted = df.groupby('Sorted Route').agg({'Date': 'count', 'Distance': sum, 'Duration': sum}).sort_values(by='Date', ascending=False)\n",
    "    routes_sorted.columns = ['Count', 'Total Distance', 'Duration']\n",
    "\n",
    "    airlines = df.groupby(['Airline']).agg({'Date': 'count', 'Distance': sum, 'Duration': sum}).sort_values(by='Date', ascending=False)\n",
    "    airlines.columns = ['Count', 'Total Distance', 'Duration']\n",
    "\n",
    "    dist_year = df.groupby(df['Date'].dt.year).agg({'Distance': sum, 'Date': 'count', 'Duration': sum})\n",
    "    dist_year.columns = ['Distance', 'Flights', 'Duration']\n",
    "\n",
    "    dom_int = df.groupby('Domestic/International').agg({'Distance': sum, 'Date': 'count', 'Duration': sum})\n",
    "    dom_int.columns = ['Distance', 'Flights', 'Duration']\n",
    "\n",
    "    clas = df.groupby('Class').agg({'Distance': sum, 'Date': 'count', 'Duration': sum})\n",
    "    clas.columns = ['Distance', 'Flights', 'Duration']\n",
    "   \n",
    "    early_arrivals = df[df['Arr Delay'] < 0].shape[0]\n",
    "    on_time_arrivals = df[(df['Arr Delay'] >= 0) & (df['Arr Delay'] < 15)].shape[0]\n",
    "    late_arrivals = df[(df['Arr Delay'] >= 15) & (df['Arr Delay'] < 60)].shape[0]\n",
    "    really_late_arrivals = df[df['Arr Delay'] >= 60].shape[0]\n",
    "\n",
    "    morning_flights = df[(df['Scheduled Dep Time (Local)'].dt.hour >= 5) & (df['Scheduled Dep Time (Local)'].dt.hour <= 11)].shape[0]\n",
    "    afternoon_flights = df[(df['Scheduled Dep Time (Local)'].dt.hour >= 12) & (df['Scheduled Dep Time (Local)'].dt.hour <= 17)].shape[0]\n",
    "    evening_flights = df[(df['Scheduled Dep Time (Local)'].dt.hour >= 18) & (df['Scheduled Dep Time (Local)'].dt.hour <= 22)].shape[0]\n",
    "    late_night_flights = df[(df['Scheduled Dep Time (Local)'].dt.hour >= 23) | (df['Scheduled Dep Time (Local)'].dt.hour <= 4)].shape[0]\n",
    "\n",
    "    def get_time(minutes):\n",
    "        return [int(minutes//60), int(minutes % 60)]\n",
    "\n",
    "    def get_time_str(minutes):\n",
    "        if get_time(minutes)[0] == 0:\n",
    "            return str(get_time(minutes)[1]) + 'min'\n",
    "        else:\n",
    "            return str(get_time(minutes)[0]) + 'h ' + str(get_time(minutes)[1]) + 'm'\n",
    "\n",
    "        \n",
    "    big_str = ''\n",
    "    if ab:\n",
    "        big_str += '<h2><span class=\\'bold\\'>Alex\\'s Flight Log (' + str(first_month) + '/' + str(all_years[0]) + '-' + str(last_month) + '/' + str(all_years[-1]) + ')</span></h2>'\n",
    "    else:\n",
    "        big_str += '<h2><span class=\\'bold\\'>Alex\\'s Flight Log (' + str(year) + ')</span></h2>'\n",
    "        \n",
    "    big_str += '<p>Total Distance Flown: <span class=\\'bold\\'>' + '{:,}'.format(TOTAL_DIST).split('.')[0] + '</span>mi' + '\\n'\n",
    "    big_str += '<br>Total Time in Air: <span class=\\'bold\\'>' + str(timedelta(minutes=int(TOTAL_TIME))) + '</span>' + '\\n'\n",
    "    big_str += '<br>Total Flights: <span class=\\'bold\\'>' + str(NUM_FLIGHTS) + '</span>' + '\\n'\n",
    "    big_str += '<br>Number of Airlines: <span class=\\'bold\\'>' + str(NUM_AIRLINES) + '</span>'\n",
    "    big_str += ', Countries: <span class=\\'bold\\'>' + str(NUM_COUNTRIES) + '</span>'\n",
    "    big_str += ', Airports: <span class=\\'bold\\'>' + str(NUM_AIRPORTS) + '</span>' + '\\n'\n",
    "    big_str += '<p>Longest interval between flights: <span class=\\'bold\\'>' + str(LONGEST_INTERVAL) + '</span> (' + str(LONGEST_INTERVAL_0) + ' to ' + str(LONGEST_INTERVAL_1) + ')\\n'\n",
    "    big_str += '<br>Month with most flying: <span class=\\'bold\\'>' \n",
    "    big_str += str(a.sort_values('Flights', ascending=False).reset_index().loc[0, 'Y-M']) + '</span> (' \n",
    "    big_str += str(int(a.sort_values('Flights', ascending=False).reset_index().loc[0, 'Flights'])) + ' flights, '\n",
    "    big_str += get_time_str(a.sort_values('Flights', ascending=False).reset_index().loc[0, 'Duration']) + ') or <span class=\\'bold\\'>'\n",
    "    big_str += str(a.sort_values('Duration', ascending=False).reset_index().loc[0, 'Y-M']) + '</span> (' \n",
    "    big_str += str(int(a.sort_values('Duration', ascending=False).reset_index().loc[0, 'Flights'])) + ' flights, '\n",
    "    big_str += get_time_str(a.sort_values('Duration', ascending=False).reset_index().loc[0, 'Duration']) + ')\\n'\n",
    "\n",
    "\n",
    "    by_dist = df[df['Duration'] != 0.0].sort_values(by='Duration')\n",
    "    print(by_dist)\n",
    "    big_str += ('<p>Shortest flight: <span class=\\'bold\\'>' + by_dist.iloc[0]['Dep Airport'] + '</span> to <span class=\\'bold\\'>' + by_dist.iloc[0]['Arr Airport'] + '</span>' \n",
    "                + ' (' + '{:,}'.format(by_dist.iloc[0]['Distance']).split('.')[0] + 'mi, ' + get_time_str(by_dist.iloc[0]['Duration']) + ')' + '\\n')\n",
    "\n",
    "\n",
    "    by_dist2 = df.sort_values(by='Duration', ascending=False)\n",
    "    big_str += ('<br>Longest flight: <span class=\\'bold\\'>' + by_dist2.iloc[0]['Dep Airport'] + '</span> to <span class=\\'bold\\'>' + by_dist2.iloc[0]['Arr Airport'] + '</span>' \n",
    "                + ' (' + '{:,}'.format(by_dist2.iloc[0]['Distance']).split('.')[0] + 'mi, ' + get_time_str(by_dist2.iloc[0]['Duration']) + ')</p>' + '\\n')\n",
    "\n",
    "    countries_list = countries.reset_index().groupby('Country').count().reset_index()[['Country', 'Airport']].sort_values(by='Airport', ascending=False).values.tolist()\n",
    "    country_airport = '<p>Airport distribution (top countries): '\n",
    "    for country, airports in countries_list[:5]:\n",
    "        country_airport += '<span class=\\'bold\\'>' + country + '</span>: ' + str(airports) + ', '\n",
    "    country_airport = country_airport[:-2]\n",
    "    big_str += country_airport + '\\n'\n",
    "\n",
    "    # visited_airports\n",
    "    visited_list = airports_aug.sort_values(by='total', ascending=False)[['IATA', 'total']].values.tolist()\n",
    "    visited_airports = '<br>Airports by total visits: '\n",
    "    for airport, total in visited_list[:5]:\n",
    "        visited_airports += '<span class=\\'bold\\'>' + airport + '</span>: ' + str(int(total)) + ', '\n",
    "    visited_airports = visited_airports[:-2]\n",
    "    big_str += visited_airports + '\\n'\n",
    "\n",
    "    routes_list = routes_sorted.reset_index()[['Sorted Route', 'Count']].values.tolist()\n",
    "    top_routes = '<br>Top routes: '\n",
    "    for route, count in routes_list[:5]:\n",
    "        top_routes += '<span class=\\'bold\\'>' + route.split(' ')[0] + '</span> to <span class=\\'bold\\'>' + route.split(' ')[1] + '</span>: ' + str(int(count)) + ', '\n",
    "    top_routes = top_routes[:-2]\n",
    "    big_str += top_routes + '\\n'\n",
    "\n",
    "    airlines_list = airlines.reset_index()[['Airline', 'Count']].values.tolist()\n",
    "    top_airlines = '<br>Top airlines: '\n",
    "    for airline, count in airlines_list[:5]:\n",
    "        top_airlines += '<span class=\\'bold\\'>' + airline + '</span>: ' + str(int(count)) + ', '\n",
    "    top_airlines = top_airlines[:-2]\n",
    "    big_str += top_airlines + '\\n'\n",
    "\n",
    "    big_str += '<p>Early arrivals: <span class=\\'bold\\'>' + str(early_arrivals) + '</span> (' + str(round(100*early_arrivals/NUM_FLIGHTS))+'%)\\n'\n",
    "    big_str += '<br>On-time arrivals (within 15min): <span class=\\'bold\\'>' + str(on_time_arrivals) + '</span> (' + str(round(100*on_time_arrivals/NUM_FLIGHTS))+'%)\\n'\n",
    "    big_str += '<br>Late arrivals (up to 1hr delay): <span class=\\'bold\\'>' + str(late_arrivals) + '</span> (' + str(round(100*late_arrivals/NUM_FLIGHTS))+'%)\\n'\n",
    "    big_str += '<br>Really late arrivals (>1hr delay): <span class=\\'bold\\'>' + str(really_late_arrivals) + '</span> (' + str(round(100*really_late_arrivals/NUM_FLIGHTS))+'%)\\n'\n",
    "    big_str += '</p>\\n'\n",
    "    \n",
    "    big_str += '<p>Morning flights (5am-12p): <span class=\\'bold\\'>' + str(morning_flights) + '</span> (' + str(round(100*morning_flights/NUM_FLIGHTS))+'%)\\n'\n",
    "    big_str += '<br>Afternoon flights (12p-6p): <span class=\\'bold\\'>' + str(afternoon_flights) + '</span> (' + str(round(100*afternoon_flights/NUM_FLIGHTS))+'%)\\n'\n",
    "    big_str += '<br>Evening flights (6p-11p): <span class=\\'bold\\'>' + str(evening_flights) + '</span> (' + str(round(100*evening_flights/NUM_FLIGHTS))+'%)\\n'\n",
    "    big_str += '<br>Late night flights (11p-5a): <span class=\\'bold\\'>' + str(late_night_flights) + '</span> (' + str(round(100*late_night_flights/NUM_FLIGHTS))+'%)\\n'\n",
    "    big_str += '</p>\\n'\n",
    "    \n",
    "    dom_int_list = dom_int.reset_index()[['Domestic/International', 'Distance', 'Flights']].values.tolist()\n",
    "    domint = '<p>'\n",
    "    for di, dist, count in dom_int_list:\n",
    "        domint += '<span class=\\'bold\\'>' + di + '</span>: ' + '{:,}'.format(dist).split('.')[0] + 'mi, ' + str(int(count)) + ' flights\\n<br>'\n",
    "    domint = domint[:-5] + '</p>'\n",
    "    big_str += domint + '\\n'\n",
    "\n",
    "    class_list = clas.reset_index()[['Class', 'Distance', 'Flights']].values.tolist()\n",
    "    class_str = '<p>'\n",
    "    for c, dist, count in class_list:\n",
    "        class_str += '<span class=\\'bold\\'>' + c + '</span>: ' + '{:,}'.format(dist).split('.')[0] + 'mi, ' + str(int(count)) + ' flights\\n<br>'\n",
    "    class_str = class_str[:-5] + '</p>'\n",
    "    big_str += class_str + '\\n'\n",
    "    \n",
    "    if ab: # ind years don't need this\n",
    "        print(dist_year.reset_index())\n",
    "        years_list = dist_year.reset_index()[['Date', 'Distance', 'Flights', 'Duration']].values.tolist()\n",
    "        years = '<p>'\n",
    "        for year, dist, count, dur in years_list:\n",
    "            years += '<span class=\\'bold\\'>' + str(int(year)) + '</span>: ' + get_time_str(dur) + ', ' + str(int(count)) + ' flights, ' + '{:,}'.format(dist).split('.')[0] + 'mi \\n<br>'\n",
    "        years = years[:-5] + '</p>'\n",
    "        big_str += years + '\\n'\n",
    "\n",
    "#     print(big_str)\n",
    "    return big_str\n",
    "\n",
    "big_str = get_stats(df, year_airports_aug[0], ab=True)\n",
    "with open(ROOT_DIR + \"all_stats.txt\", \"w\") as text_file:\n",
    "    text_file.write(big_str)\n",
    "for i, year in enumerate(all_years):\n",
    "    big_str = get_stats(df[df['Date'].dt.year == year], year_airports_aug[i+1], year=year)\n",
    "    with open(ROOT_DIR + str(year) + \"_stats.txt\", \"w\") as text_file:\n",
    "        text_file.write(big_str)"
   ]
  },
  {
   "cell_type": "code",
   "execution_count": null,
   "metadata": {},
   "outputs": [],
   "source": []
  }
 ],
 "metadata": {
  "colab": {
   "name": "flight log.ipynb",
   "provenance": []
  },
  "kernelspec": {
   "display_name": "Python 3",
   "language": "python",
   "name": "python3"
  },
  "language_info": {
   "codemirror_mode": {
    "name": "ipython",
    "version": 3
   },
   "file_extension": ".py",
   "mimetype": "text/x-python",
   "name": "python",
   "nbconvert_exporter": "python",
   "pygments_lexer": "ipython3",
   "version": "3.8.8"
  }
 },
 "nbformat": 4,
 "nbformat_minor": 1
}
