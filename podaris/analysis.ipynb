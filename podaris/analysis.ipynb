{
 "cells": [
  {
   "cell_type": "code",
   "id": "initial_id",
   "metadata": {
    "collapsed": true,
    "ExecuteTime": {
     "end_time": "2025-08-25T23:39:06.294663Z",
     "start_time": "2025-08-25T23:39:06.218052Z"
    }
   },
   "source": [
    "import geopandas as gpd\n",
    "import pandas as pd\n",
    "from pathlib import Path\n",
    "import warnings\n",
    "# This warning is due to precision issues during union/intersection, data validated\n",
    "warnings.filterwarnings(\"ignore\", message=\"invalid value encountered in *\", category=RuntimeWarning)\n",
    "\n",
    "crs = 27700 # British National Grid, equal-area\n",
    "\n",
    "pop = gpd.read_file('data/cambridge.geojson')\n",
    "pop_column = 'Usual resident population'\n",
    "\n",
    "iso_folder = Path('data/')\n",
    "iso_glob = \"route_*_isochrone.geojson\"\n",
    "\n",
    "# Create iso by merging files, making new column \"route\". This allows code to be modular and\n",
    "# support any number of stations, routes and steps.\n",
    "iso_list = []\n",
    "for fp in iso_folder.glob(iso_glob):\n",
    "    g = gpd.read_file(fp)\n",
    "    g[\"route\"] = fp.stem.split('_')[1]\n",
    "    iso_list.append(g)\n",
    "if not iso_list:\n",
    "    raise RuntimeError(\"No isochrone files found. Check folder/pattern.\")\n",
    "iso = pd.concat(iso_list, ignore_index=True)\n"
   ],
   "outputs": [],
   "execution_count": 35
  },
  {
   "metadata": {
    "ExecuteTime": {
     "end_time": "2025-08-25T23:39:06.305160Z",
     "start_time": "2025-08-25T23:39:06.299417Z"
    }
   },
   "cell_type": "code",
   "source": [
    "### Assertions of inputs ###\n",
    "assert pop.is_valid.all(), \"Some population geometries are invalid\"\n",
    "assert iso.is_valid.all(), \"Some isochrone geometries are invalid\"\n",
    "\n",
    "assert \"stepBoundaryMeters\" in iso.columns, \"Column 'stepBoundaryMeters' not found in iso\"\n",
    "assert pop_column in pop.columns, f\"Column {pop_column} not found in pop\"\n"
   ],
   "id": "bf9202894bc7b0ff",
   "outputs": [],
   "execution_count": 36
  },
  {
   "metadata": {
    "ExecuteTime": {
     "end_time": "2025-08-25T23:39:06.332317Z",
     "start_time": "2025-08-25T23:39:06.317163Z"
    }
   },
   "cell_type": "code",
   "source": [
    "### Cleaning ###\n",
    "\n",
    "# Reproject CRS\n",
    "pop = pop.to_crs(epsg=crs)\n",
    "iso = iso.to_crs(epsg=crs)\n",
    "\n",
    "# Add a stable ID for each isochrone row\n",
    "iso = iso.reset_index(drop=True).copy()\n",
    "iso[\"iso_id\"] = iso.index  # unique ID per isochrone polygon\n",
    "\n",
    "pop['population'] = pop[pop_column].astype('int64')\n",
    "pop[\"pop_area\"] = pop.geometry.area\n",
    "\n",
    "# Reduce to only needed cols\n",
    "pop = pop[['population', \"pop_area\", \"geometry\"]]\n",
    "iso = iso[[\"iso_id\", \"route\", \"stepBoundaryMeters\", \"geometry\"]]\n"
   ],
   "id": "3d0a80bd41b9622c",
   "outputs": [],
   "execution_count": 37
  },
  {
   "metadata": {},
   "cell_type": "markdown",
   "source": [
    "## Subtask 2: Calculate population in each route/catchment\n",
    "\n",
    "Approach: For each bus route and for each step catchment (e.g. 400m), make one polygon\n",
    "that's the union of all station catchments, so that population calculation is only on\n",
    "one polygon and also avoids double-counting in the process. Then, calculate population\n",
    "by computing overlap with census tracts, calculating percent share, and merging back."
   ],
   "id": "3b51d30165303d04"
  },
  {
   "metadata": {
    "ExecuteTime": {
     "end_time": "2025-08-25T23:39:06.390445Z",
     "start_time": "2025-08-25T23:39:06.342641Z"
    }
   },
   "cell_type": "code",
   "source": [
    "# Helper function to compute overlap between population dataset [p] and isochrone dataset [i],\n",
    "# returning [inter], the non-empty pair-wise geometry intersections.\n",
    "#\n",
    "# Alex's note: This function allows the code to be easily reused to calculate other things,\n",
    "# e.g. catchment for each station instead of union of all stations\n",
    "def compute_overlap(p, i):\n",
    "    # Intersections between census polygons and each isochrone.\n",
    "    # Worst-case O(N x M) but GeoPandas uses spatial indexing, closer to linear.\n",
    "    # Makes subtask 2 take 303 for 5000-row iso df and 467-row pop df.\n",
    "    inter = gpd.overlay(p, i, how=\"intersection\", keep_geom_type=True)\n",
    "\n",
    "    # Compute area overlap\n",
    "    inter[\"inter_area\"] = inter.geometry.area\n",
    "    inter[\"pop_share\"] = (inter[\"inter_area\"] / inter[\"pop_area\"]).clip(0, 1)\n",
    "    inter[\"pop_weighted\"] = inter['population'] * inter[\"pop_share\"]\n",
    "    return inter\n",
    "\n",
    "def calculate_pops(p, i):\n",
    "    # Dissolve by (route, stepBoundaryMeters) to merge all isochrones for a given route & band\n",
    "    union_by_route_step = i.dissolve(by=[\"route\", \"stepBoundaryMeters\"]).reset_index()\n",
    "    union_by_route_step = union_by_route_step[[\"route\", \"stepBoundaryMeters\", \"geometry\"]]\n",
    "\n",
    "    # Compute overlap and merge back\n",
    "    inter_route = compute_overlap(p, union_by_route_step)\n",
    "    per_route_step = inter_route.groupby([\"route\", \"stepBoundaryMeters\"], as_index=False)[\"pop_weighted\"].sum()\n",
    "\n",
    "    # Rename, sort, round\n",
    "    per_route_step = (\n",
    "        per_route_step\n",
    "        .rename(columns={\"pop_weighted\": \"population\"})\n",
    "        .assign(population=lambda df: df[\"population\"].round().astype(\"int64\"))\n",
    "        .sort_values([\"route\", \"stepBoundaryMeters\"])\n",
    "        .set_index([\"route\", \"stepBoundaryMeters\"])\n",
    "    )\n",
    "    return per_route_step\n",
    "\n",
    "per_route_step = calculate_pops(pop, iso)\n",
    "\n",
    "# Save\n",
    "per_route_step.to_csv('per_route_step.csv')\n",
    "per_route_step.to_json('per_route_step.json')\n",
    "per_route_step"
   ],
   "id": "ef9462256427d264",
   "outputs": [
    {
     "data": {
      "text/plain": [
       "                          population\n",
       "route stepBoundaryMeters            \n",
       "1     400                      10851\n",
       "      800                      28192\n",
       "2     400                      18311\n",
       "      800                      46594"
      ],
      "text/html": [
       "<div>\n",
       "<style scoped>\n",
       "    .dataframe tbody tr th:only-of-type {\n",
       "        vertical-align: middle;\n",
       "    }\n",
       "\n",
       "    .dataframe tbody tr th {\n",
       "        vertical-align: top;\n",
       "    }\n",
       "\n",
       "    .dataframe thead th {\n",
       "        text-align: right;\n",
       "    }\n",
       "</style>\n",
       "<table border=\"1\" class=\"dataframe\">\n",
       "  <thead>\n",
       "    <tr style=\"text-align: right;\">\n",
       "      <th></th>\n",
       "      <th></th>\n",
       "      <th>population</th>\n",
       "    </tr>\n",
       "    <tr>\n",
       "      <th>route</th>\n",
       "      <th>stepBoundaryMeters</th>\n",
       "      <th></th>\n",
       "    </tr>\n",
       "  </thead>\n",
       "  <tbody>\n",
       "    <tr>\n",
       "      <th rowspan=\"2\" valign=\"top\">1</th>\n",
       "      <th>400</th>\n",
       "      <td>10851</td>\n",
       "    </tr>\n",
       "    <tr>\n",
       "      <th>800</th>\n",
       "      <td>28192</td>\n",
       "    </tr>\n",
       "    <tr>\n",
       "      <th rowspan=\"2\" valign=\"top\">2</th>\n",
       "      <th>400</th>\n",
       "      <td>18311</td>\n",
       "    </tr>\n",
       "    <tr>\n",
       "      <th>800</th>\n",
       "      <td>46594</td>\n",
       "    </tr>\n",
       "  </tbody>\n",
       "</table>\n",
       "</div>"
      ]
     },
     "execution_count": 38,
     "metadata": {},
     "output_type": "execute_result"
    }
   ],
   "execution_count": 38
  },
  {
   "metadata": {
    "ExecuteTime": {
     "end_time": "2025-08-25T23:39:06.403005Z",
     "start_time": "2025-08-25T23:39:06.400796Z"
    }
   },
   "cell_type": "code",
   "source": [
    "# Alex's note: If I had more time and wanted a robust script, I would write 5-10 test cases here\n",
    "# with dummy data for regular and corner case handling on calculate_pops() function."
   ],
   "id": "4172adf1bcb80ed7",
   "outputs": [],
   "execution_count": 39
  },
  {
   "metadata": {},
   "cell_type": "markdown",
   "source": [
    "## Subtask 3: Calculate population within 400m\n",
    "Approach: take only 800m results, calculate trips for daily and occasional riders. This was chosen because using both 5% and 3% would be double-counting residents.\n"
   ],
   "id": "4ea22252d583e8ce"
  },
  {
   "metadata": {
    "ExecuteTime": {
     "end_time": "2025-08-25T23:39:06.426981Z",
     "start_time": "2025-08-25T23:39:06.419378Z"
    }
   },
   "cell_type": "code",
   "source": [
    "ridership_assumptions = {400: 0.05, 800: 0.03}\n",
    "frequent_trips_per_week = 14\n",
    "occasional_trips_per_week = 2\n",
    "occasional_riders_multipler = 2.66\n",
    "\n",
    "riders = per_route_step.reset_index()\n",
    "riders['daily_riders'] = riders.apply(lambda row: row['population'] * ridership_assumptions[row['stepBoundaryMeters']], axis=1)\n",
    "riders['occasional_riders'] = riders['daily_riders'] * occasional_riders_multipler\n",
    "riders['trips_per_week'] = riders['daily_riders'] * frequent_trips_per_week + riders['occasional_riders'] * occasional_trips_per_week\n",
    "riders['trips_per_week'] = riders['trips_per_week'].round().astype('int64')\n",
    "\n",
    "riders.to_csv('riders.csv')\n",
    "riders\n"
   ],
   "id": "e352269e2e7a6b27",
   "outputs": [
    {
     "data": {
      "text/plain": [
       "  route  stepBoundaryMeters  population  daily_riders  occasional_riders  \\\n",
       "0     1                 400       10851        542.55          1443.1830   \n",
       "1     1                 800       28192        845.76          2249.7216   \n",
       "2     2                 400       18311        915.55          2435.3630   \n",
       "3     2                 800       46594       1397.82          3718.2012   \n",
       "\n",
       "   trips_per_week  \n",
       "0           10482  \n",
       "1           16340  \n",
       "2           17688  \n",
       "3           27006  "
      ],
      "text/html": [
       "<div>\n",
       "<style scoped>\n",
       "    .dataframe tbody tr th:only-of-type {\n",
       "        vertical-align: middle;\n",
       "    }\n",
       "\n",
       "    .dataframe tbody tr th {\n",
       "        vertical-align: top;\n",
       "    }\n",
       "\n",
       "    .dataframe thead th {\n",
       "        text-align: right;\n",
       "    }\n",
       "</style>\n",
       "<table border=\"1\" class=\"dataframe\">\n",
       "  <thead>\n",
       "    <tr style=\"text-align: right;\">\n",
       "      <th></th>\n",
       "      <th>route</th>\n",
       "      <th>stepBoundaryMeters</th>\n",
       "      <th>population</th>\n",
       "      <th>daily_riders</th>\n",
       "      <th>occasional_riders</th>\n",
       "      <th>trips_per_week</th>\n",
       "    </tr>\n",
       "  </thead>\n",
       "  <tbody>\n",
       "    <tr>\n",
       "      <th>0</th>\n",
       "      <td>1</td>\n",
       "      <td>400</td>\n",
       "      <td>10851</td>\n",
       "      <td>542.55</td>\n",
       "      <td>1443.1830</td>\n",
       "      <td>10482</td>\n",
       "    </tr>\n",
       "    <tr>\n",
       "      <th>1</th>\n",
       "      <td>1</td>\n",
       "      <td>800</td>\n",
       "      <td>28192</td>\n",
       "      <td>845.76</td>\n",
       "      <td>2249.7216</td>\n",
       "      <td>16340</td>\n",
       "    </tr>\n",
       "    <tr>\n",
       "      <th>2</th>\n",
       "      <td>2</td>\n",
       "      <td>400</td>\n",
       "      <td>18311</td>\n",
       "      <td>915.55</td>\n",
       "      <td>2435.3630</td>\n",
       "      <td>17688</td>\n",
       "    </tr>\n",
       "    <tr>\n",
       "      <th>3</th>\n",
       "      <td>2</td>\n",
       "      <td>800</td>\n",
       "      <td>46594</td>\n",
       "      <td>1397.82</td>\n",
       "      <td>3718.2012</td>\n",
       "      <td>27006</td>\n",
       "    </tr>\n",
       "  </tbody>\n",
       "</table>\n",
       "</div>"
      ]
     },
     "execution_count": 40,
     "metadata": {},
     "output_type": "execute_result"
    }
   ],
   "execution_count": 40
  }
 ],
 "metadata": {
  "kernelspec": {
   "display_name": "Python 3",
   "language": "python",
   "name": "python3"
  },
  "language_info": {
   "codemirror_mode": {
    "name": "ipython",
    "version": 2
   },
   "file_extension": ".py",
   "mimetype": "text/x-python",
   "name": "python",
   "nbconvert_exporter": "python",
   "pygments_lexer": "ipython2",
   "version": "2.7.6"
  }
 },
 "nbformat": 4,
 "nbformat_minor": 5
}
